{
 "cells": [
  {
   "cell_type": "code",
   "execution_count": 1,
   "metadata": {},
   "outputs": [],
   "source": [
    "import matplotlib.pyplot as plt\n",
    "import numpy as np\n",
    "import HamiltonianPy as hp\n",
    "import itertools as it\n",
    "from matplotlib.patches import Arc,RegularPolygon\n",
    "from numpy import radians as rad"
   ]
  },
  {
   "cell_type": "code",
   "execution_count": 2,
   "metadata": {},
   "outputs": [
    {
     "data": {
      "image/png": "[encoded data removed]",
      "text/plain": [
       "<Figure size 432x288 with 1 Axes>"
      ]
     },
     "metadata": {},
     "output_type": "display_data"
    }
   ],
   "source": [
    "ax=plt.gca()\n",
    "ax.axis('off')\n",
    "ax.axis('equal')\n",
    "ax.set_xlim(-0.1,2.1)\n",
    "ax.set_ylim(-0.1,2.1)\n",
    "P,t1,t2=np.array([0.0,0.0]),np.array([1.0,0.0]),np.array([0.0,1.0])\n",
    "lattice=hp.Lattice(name='2DFB',rcoords=hp.tiling(cluster=[P],vectors=[t1,t2],translations=it.product(range(3),range(3))),neighbours=1)\n",
    "for bond in lattice.bonds:\n",
    "    p1,p2=bond.spoint,bond.epoint\n",
    "    if bond.neighbour==0:\n",
    "        ax.scatter(p1.rcoord[0],p1.rcoord[1],s=100,edgecolors='none',color='blue' if p1.pid.site%2==0 else 'red',zorder=3)\n",
    "    elif bond.neighbour==1:\n",
    "        ax.plot([p1.rcoord[0],p2.rcoord[0]],[p1.rcoord[1],p2.rcoord[1]],lw=4,color='black',zorder=2)\n",
    "        theta,s1,s2=hp.azimuthd(bond.rcoord),p1.pid.site%2,p2.pid.site%2\n",
    "        if np.allclose(theta,0.0) or np.allclose(theta,180.0):\n",
    "            coeff=1 if (s1,s2)==(0,1) else -1\n",
    "        else:\n",
    "            coeff=-1 if (s1,s2)==(0,1) else 1\n",
    "        center,direction=(p1.rcoord+p2.rcoord)/2,bond.rcoord/10*coeff\n",
    "        ax.annotate(s='',xy=center-direction/2,xytext=center+direction/2,arrowprops={'color':'black','linewidth':4.5,'arrowstyle':'->','zorder':3})\n",
    "ax.plot([0.5],[0.5],marker=r'$\\circlearrowright$',markersize=40,markeredgewidth=0.01,color='black')\n",
    "ax.plot([1.5],[0.5],marker=r'$\\circlearrowleft$',markersize=40,markeredgewidth=0.01,color='black')\n",
    "ax.plot([0.5],[1.5],marker=r'$\\circlearrowleft$',markersize=40,markeredgewidth=0.01,color='black')\n",
    "ax.plot([1.5],[1.5],marker=r'$\\circlearrowright$',markersize=40,markeredgewidth=0.01,color='black')\n",
    "plt.savefig(\"flux.pdf\")\n",
    "plt.show()"
   ]
  },
  {
   "cell_type": "code",
   "execution_count": null,
   "metadata": {},
   "outputs": [],
   "source": []
  }
 ],
 "metadata": {
  "kernelspec": {
   "display_name": "Python 3",
   "language": "python",
   "name": "python3"
  },
  "language_info": {
   "codemirror_mode": {
    "name": "ipython",
    "version": 3
   },
   "file_extension": ".py",
   "mimetype": "text/x-python",
   "name": "python",
   "nbconvert_exporter": "python",
   "pygments_lexer": "ipython3",
   "version": "3.5.5"
  }
 },
 "nbformat": 4,
 "nbformat_minor": 2
}
